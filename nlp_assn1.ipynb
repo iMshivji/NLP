{
 "cells": [
  {
   "cell_type": "code",
   "execution_count": 1,
   "metadata": {},
   "outputs": [
    {
     "name": "stderr",
     "output_type": "stream",
     "text": [
      "/home/shivji/.local/lib/python2.7/site-packages/scipy/special/__init__.py:640: RuntimeWarning: numpy.dtype size changed, may indicate binary incompatibility. Expected 96, got 88\n",
      "  from ._ufuncs import *\n",
      "/home/shivji/.local/lib/python2.7/site-packages/scipy/linalg/basic.py:17: RuntimeWarning: numpy.dtype size changed, may indicate binary incompatibility. Expected 96, got 88\n",
      "  from ._solve_toeplitz import levinson\n",
      "/home/shivji/.local/lib/python2.7/site-packages/scipy/linalg/__init__.py:207: RuntimeWarning: numpy.dtype size changed, may indicate binary incompatibility. Expected 96, got 88\n",
      "  from ._decomp_update import *\n",
      "/home/shivji/.local/lib/python2.7/site-packages/scipy/special/_ellip_harm.py:7: RuntimeWarning: numpy.dtype size changed, may indicate binary incompatibility. Expected 96, got 88\n",
      "  from ._ellip_harm_2 import _ellipsoid, _ellipsoid_norm\n",
      "/home/shivji/.local/lib/python2.7/site-packages/scipy/interpolate/_bsplines.py:10: RuntimeWarning: numpy.dtype size changed, may indicate binary incompatibility. Expected 96, got 88\n",
      "  from . import _bspl\n",
      "/home/shivji/.local/lib/python2.7/site-packages/scipy/sparse/lil.py:19: RuntimeWarning: numpy.dtype size changed, may indicate binary incompatibility. Expected 96, got 88\n",
      "  from . import _csparsetools\n",
      "/home/shivji/.local/lib/python2.7/site-packages/scipy/sparse/csgraph/__init__.py:165: RuntimeWarning: numpy.dtype size changed, may indicate binary incompatibility. Expected 96, got 88\n",
      "  from ._shortest_path import shortest_path, floyd_warshall, dijkstra,\\\n",
      "/home/shivji/.local/lib/python2.7/site-packages/scipy/sparse/csgraph/_validation.py:5: RuntimeWarning: numpy.dtype size changed, may indicate binary incompatibility. Expected 96, got 88\n",
      "  from ._tools import csgraph_to_dense, csgraph_from_dense,\\\n",
      "/home/shivji/.local/lib/python2.7/site-packages/scipy/sparse/csgraph/__init__.py:167: RuntimeWarning: numpy.dtype size changed, may indicate binary incompatibility. Expected 96, got 88\n",
      "  from ._traversal import breadth_first_order, depth_first_order, \\\n",
      "/home/shivji/.local/lib/python2.7/site-packages/scipy/sparse/csgraph/__init__.py:169: RuntimeWarning: numpy.dtype size changed, may indicate binary incompatibility. Expected 96, got 88\n",
      "  from ._min_spanning_tree import minimum_spanning_tree\n",
      "/home/shivji/.local/lib/python2.7/site-packages/scipy/sparse/csgraph/__init__.py:170: RuntimeWarning: numpy.dtype size changed, may indicate binary incompatibility. Expected 96, got 88\n",
      "  from ._reordering import reverse_cuthill_mckee, maximum_bipartite_matching, \\\n",
      "/home/shivji/.local/lib/python2.7/site-packages/scipy/spatial/__init__.py:95: RuntimeWarning: numpy.dtype size changed, may indicate binary incompatibility. Expected 96, got 88\n",
      "  from .ckdtree import *\n",
      "/home/shivji/.local/lib/python2.7/site-packages/scipy/spatial/__init__.py:96: RuntimeWarning: numpy.dtype size changed, may indicate binary incompatibility. Expected 96, got 88\n",
      "  from .qhull import *\n",
      "/home/shivji/.local/lib/python2.7/site-packages/scipy/spatial/_spherical_voronoi.py:18: RuntimeWarning: numpy.dtype size changed, may indicate binary incompatibility. Expected 96, got 88\n",
      "  from . import _voronoi\n",
      "/home/shivji/.local/lib/python2.7/site-packages/scipy/spatial/distance.py:122: RuntimeWarning: numpy.dtype size changed, may indicate binary incompatibility. Expected 96, got 88\n",
      "  from . import _hausdorff\n",
      "/home/shivji/.local/lib/python2.7/site-packages/scipy/optimize/_trlib/__init__.py:1: RuntimeWarning: numpy.dtype size changed, may indicate binary incompatibility. Expected 96, got 88\n",
      "  from ._trlib import TRLIBQuadraticSubproblem\n",
      "/home/shivji/.local/lib/python2.7/site-packages/scipy/optimize/_numdiff.py:10: RuntimeWarning: numpy.dtype size changed, may indicate binary incompatibility. Expected 96, got 88\n",
      "  from ._group_columns import group_dense, group_sparse\n",
      "/home/shivji/.local/lib/python2.7/site-packages/scipy/stats/_continuous_distns.py:18: RuntimeWarning: numpy.dtype size changed, may indicate binary incompatibility. Expected 96, got 88\n",
      "  from . import _stats\n"
     ]
    },
    {
     "name": "stdout",
     "output_type": "stream",
     "text": [
      "enter the text file path: /home/shivji/Desktop/tom\n",
      "token: 76946\n",
      "type: 9488\n",
      "TTR: 0.123307254438\n"
     ]
    },
    {
     "data": {
      "image/png": "[encoded data removed]",
      "text/plain": [
       "<Figure size 432x288 with 1 Axes>"
      ]
     },
     "metadata": {},
     "output_type": "display_data"
    },
    {
     "data": {
      "image/png": "[encoded data removed]",
      "text/plain": [
       "<Figure size 432x288 with 1 Axes>"
      ]
     },
     "metadata": {},
     "output_type": "display_data"
    }
   ],
   "source": [
    "%matplotlib inline\n",
    "from nltk.tokenize import word_tokenize\n",
    "import matplotlib.pyplot as plt\n",
    "import string\n",
    "\n",
    "def f_vs_r(lst):\n",
    "    lst1=[x.encode('utf-8') for x in lst]\n",
    "    dic={}\n",
    "    for i in lst1:\n",
    "        if i in dic:\n",
    "            dic[i]+=1\n",
    "        else:\n",
    "            dic[i]=1\n",
    "    freq_r=dic.values()\n",
    "    freq_r=freq_r.sort()\n",
    "    rank=range(1,len(freq_r)+1)\n",
    "    x=rank\n",
    "    y=freq_r\n",
    "    plt.plot(x,y)\n",
    "    plt.xlabel(\"Rank of Word r\")\n",
    "    plt.ylabel(\"Frequency of Occurence f\")\n",
    "    plt.title(\"frequenc f v/s rank r\")\n",
    "    plt.show()\n",
    "\n",
    "\n",
    "\n",
    "\n",
    "def f_vs_l(lst):\n",
    "    freq=[]\n",
    "    length=range(1,47)\n",
    "    for i in range(46):\n",
    "        freq.append(0)\n",
    "    for i in lst:\n",
    "        freq[len(i)-1]+=1\n",
    "    x=length\n",
    "    y=freq\n",
    "    plt.plot(x,y)\n",
    "    plt.xlabel(\"Length of Word\")\n",
    "    plt.ylabel(\"Frequency of Occurence\")\n",
    "    plt.title(\"f v/s length\")\n",
    "    plt.show()\n",
    "\n",
    "\n",
    "#def f_vs_m(lst):\n",
    "\n",
    "def vocabulary_growth(lst):\n",
    "    dictn={}\n",
    "    m=0\n",
    "    n=50\n",
    "    for i in lst[m:n]:\n",
    "        if n>len(lst)-100:\n",
    "            break\n",
    "        vocabulary=len(set(i))\n",
    "        token = len(i)\n",
    "        if token not in dictn:\n",
    "            dictn[token]=vocabulary\n",
    "        n+=50\n",
    "    x=dictn.keys()\n",
    "    y=dictn.values()\n",
    "    plt.plot(x,y)\n",
    "    plt.xlabel(\"No. of Token N\")\n",
    "    plt.ylabel(\"Size of vocabulary |V|\")\n",
    "    plt.title(\"|V| vs N\")\n",
    "    plt.show()\n",
    "\n",
    "\n",
    "def ttr(lst):\n",
    "    token=len(lst)\n",
    "    tpe=len(set(lst))\n",
    "\n",
    "\n",
    "    print \"token:\",token\n",
    "    print \"type:\",tpe\n",
    "    print \"TTR:\", tpe*1.0/token\n",
    "\n",
    "    \n",
    "    \n",
    "txt=raw_input(\"enter the text file path: \")\n",
    "fin=open(txt,'r')\n",
    "fin1=fin.read()\n",
    "fin1=fin1.translate(None, string.punctuation)                    #to remove punctuations from the text string\n",
    "fin1=fin1.decode('utf-8')                                        #to avoid unicode decode error\n",
    "lst=word_tokenize(fin1)\n",
    "\n",
    "ttr(lst)\n",
    "f_vs_l(lst)\n",
    "vocabulary_growth(lst)\n",
    "\n",
    "fin.close()\n",
    "\n"
   ]
  },
  {
   "cell_type": "code",
   "execution_count": null,
   "metadata": {},
   "outputs": [],
   "source": []
  },
  {
   "cell_type": "code",
   "execution_count": null,
   "metadata": {},
   "outputs": [],
   "source": []
  },
  {
   "cell_type": "code",
   "execution_count": null,
   "metadata": {},
   "outputs": [],
   "source": []
  },
  {
   "cell_type": "code",
   "execution_count": null,
   "metadata": {},
   "outputs": [],
   "source": []
  },
  {
   "cell_type": "code",
   "execution_count": null,
   "metadata": {},
   "outputs": [],
   "source": []
  },
  {
   "cell_type": "code",
   "execution_count": null,
   "metadata": {},
   "outputs": [],
   "source": []
  }
 ],
 "metadata": {
  "kernelspec": {
   "display_name": "Python 2",
   "language": "python",
   "name": "python2"
  },
  "language_info": {
   "codemirror_mode": {
    "name": "ipython",
    "version": 2
   },
   "file_extension": ".py",
   "mimetype": "text/x-python",
   "name": "python",
   "nbconvert_exporter": "python",
   "pygments_lexer": "ipython2",
   "version": "2.7.12"
  }
 },
 "nbformat": 4,
 "nbformat_minor": 2
}
