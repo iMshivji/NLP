{
 "cells": [
  {
   "cell_type": "markdown",
   "metadata": {},
   "source": [
    "## NLP Assignment 2\n",
    "## Shivji_Bhagat_16110149"
   ]
  },
  {
   "cell_type": "code",
   "execution_count": 3,
   "metadata": {},
   "outputs": [],
   "source": [
    "#Question 2\n",
    "%matplotlib inline\n",
    "import nltk\n",
    "from nltk.tokenize import sent_tokenize, word_tokenize\n",
    "from nltk.util import ngrams\n",
    "import matplotlib.pyplot as plt\n",
    "import math\n",
    "####################################################################################################\n",
    "\n",
    "file=open('Alice','r')                                #fille object in read mode\n",
    "f_string=file.read()                                            #returns the sile in string format\n",
    "f_string=f_string.replace('\\n',' ')                             #replacing all \\n with '  '\n",
    "sentance_list=sent_tokenize(f_string)\n",
    "\n",
    "#dividing the sentances into 80-20 ratio\n",
    "s_80=[]\n",
    "s_20=[]\n",
    "l=len(sentance_list)\n",
    "pos=int(0.8*l)\n",
    "s_80=sentance_list[:l]\n",
    "s_20=sentance_list[l:]\n"
   ]
  },
  {
   "cell_type": "code",
   "execution_count": null,
   "metadata": {},
   "outputs": [],
   "source": []
  },
  {
   "cell_type": "code",
   "execution_count": 4,
   "metadata": {},
   "outputs": [],
   "source": [
    "#Question 3\n",
    "word_list=word_tokenize(f_string)\n",
    "unigram={}\n",
    "bigram={}\n",
    "trigram={}\n",
    "quadgram={}\n",
    "\n",
    "unigram_count={}\n",
    "unique_unigram=list(set(word_list))\n",
    "token=len(word_list)\n",
    "Type=len(unique_unigram)\n",
    "for i in unique_unigram:\n",
    "    tmp=word_list.count(i)\n",
    "    unigram_count[i]=tmp\n",
    "    unigram[i]=tmp/token\n",
    "#print(unigram)\n",
    "    \n",
    "    \n",
    "    \n",
    "#bigrams\n",
    "bigram_list=list(nltk.bigrams(word_list))\n",
    "unique_bigram=list(set(bigram_list))\n",
    "bigram_count={}\n",
    "for i in unique_bigram:\n",
    "    tmp=bigram_list.count(i)\n",
    "    bigram_count[i]=tmp\n",
    "    try:\n",
    "        bigram[i]=tmp/unigram_count[i[0]]\n",
    "    except:\n",
    "        bigram[i]=0\n",
    "#print bigram\n",
    "\n",
    "        \n",
    "        \n",
    "#trigrams\n",
    "trigram_list=list(ngrams(word_list,3))\n",
    "unique_trigram=list(set(trigram_list))\n",
    "trigram_count={}\n",
    "for i in unique_trigram:\n",
    "    tmp=trigram_list.count(i)\n",
    "    trigram_count[i]=tmp\n",
    "    try:\n",
    "        trigram[i]=tmp/bigram_count[(i[0],i[1])]\n",
    "    except:\n",
    "        trigram[i]=0\n",
    "#print(trigram)\n",
    "        \n",
    "        \n",
    "#quadgrams\n",
    "quadgram_list=list(ngrams(word_list,4))\n",
    "unique_quadgram=list(set(quadgram_list))\n",
    "quadgram_count={}\n",
    "for i in unique_quadgram:\n",
    "    tmp=quadgram_list.count(i)\n",
    "    quadgram_count[i]=tmp\n",
    "    try:\n",
    "        quadgram[i]=tmp/trigram_count[(i[0],i[1],i[2])]\n",
    "    except:\n",
    "        quadgram[i]=0\n",
    "#print(quadgram)"
   ]
  },
  {
   "cell_type": "code",
   "execution_count": null,
   "metadata": {},
   "outputs": [],
   "source": []
  },
  {
   "cell_type": "code",
   "execution_count": 5,
   "metadata": {},
   "outputs": [],
   "source": [
    "#question 4"
   ]
  },
  {
   "cell_type": "code",
   "execution_count": 6,
   "metadata": {},
   "outputs": [
    {
     "data": {
      "image/png": "[encoded data removed]",
      "text/plain": [
       "<Figure size 432x288 with 1 Axes>"
      ]
     },
     "metadata": {
      "needs_background": "light"
     },
     "output_type": "display_data"
    }
   ],
   "source": [
    "#question 5\n",
    "#add 1 smoothing for bigrams\n",
    "l=len(unique_unigram)\n",
    "add1_bigram={}\n",
    "add1_count={}\n",
    "for i in unique_bigram:\n",
    "    add1_bigram[i]=(bigram_count[i]+1)/(l+unigram_count[i[0]])\n",
    "    add1_count[i]=add1_bigram[i]*unigram_count[i[0]]\n",
    "\n",
    "x=list(range(0,len(unique_bigram)))\n",
    "y=list(add1_count.values())\n",
    "y1=list(bigram_count.values())                                 #Plotting count after add-1 smoothing\n",
    "plt.plot(x,y,'g')\n",
    "plt.xlabel(\"Unique Bigram Idex\")\n",
    "plt.ylabel(\"Count after add-1 smoothing\")\n",
    "plt.title(\"Count v/s bigram index\")\n",
    "plt.show()\n"
   ]
  },
  {
   "cell_type": "code",
   "execution_count": 7,
   "metadata": {},
   "outputs": [
    {
     "data": {
      "image/png": "[encoded data removed]",
      "text/plain": [
       "<Figure size 432x288 with 1 Axes>"
      ]
     },
     "metadata": {
      "needs_background": "light"
     },
     "output_type": "display_data"
    }
   ],
   "source": [
    "x=list(range(0,len(unique_bigram)))\n",
    "y1=list(bigram_count.values())                                        #Plotting count before add-1 smoothing\n",
    "plt.plot(x,y1,'r')\n",
    "plt.xlabel(\"Unique Bigram Idex\")\n",
    "plt.ylabel(\"Count before add-1 smoothing\")\n",
    "plt.title(\"Count v/s bigram index\")\n",
    "plt.show()\n"
   ]
  },
  {
   "cell_type": "markdown",
   "metadata": {},
   "source": [
    "It is clearly visible that the count for bigrams with index near 5000, 5250 etc. the count falls drastically after add-1 smoothing. The corresponding bigrams and their respective counts are printed below."
   ]
  },
  {
   "cell_type": "code",
   "execution_count": 8,
   "metadata": {},
   "outputs": [
    {
     "name": "stdout",
     "output_type": "stream",
     "text": [
      "('“', 'Be')  : 0.0005272871078302136 (After smoothing)\n",
      "('“', 'Be')  : 1 (Before smoothing)\n",
      "('court', ';')  : 0.0005350454788657035 (After smoothing)\n",
      "('court', ';')  : 1 (Before smoothing)\n"
     ]
    }
   ],
   "source": [
    "print(unique_bigram[5250],' :',add1_bigram[unique_bigram[5250]], '(After smoothing)')\n",
    "print(unique_bigram[5250],' :',bigram_count[unique_bigram[5250]],'(Before smoothing)')\n",
    "print(unique_bigram[4999],' :',add1_bigram[unique_bigram[4999]], '(After smoothing)')\n",
    "print(unique_bigram[4999],' :',bigram_count[unique_bigram[4999]],'(Before smoothing)')\n"
   ]
  },
  {
   "cell_type": "code",
   "execution_count": 9,
   "metadata": {},
   "outputs": [],
   "source": [
    "#Question 6\n"
   ]
  },
  {
   "cell_type": "code",
   "execution_count": 11,
   "metadata": {},
   "outputs": [],
   "source": [
    "#Question 7\n",
    "\n",
    "#perplexity value for bigram model using add-1 smoothing\n",
    "test=[]\n",
    "for i in s_20: \n",
    "    test+=i.split()\n",
    "\n",
    "perplx=1\n",
    "bigram_list1=list(nltk.bigrams(s_20))\n",
    "unique_bigram1=list(set(bigram_list1))\n",
    "\n",
    "for i in unique_bigram1:\n",
    "    perplx=perplx*(1/add1_bigram[i])\n",
    "\n",
    "#perplx=perplx**(1/len(unique_bigram1))\n"
   ]
  },
  {
   "cell_type": "code",
   "execution_count": null,
   "metadata": {},
   "outputs": [],
   "source": []
  }
 ],
 "metadata": {
  "kernelspec": {
   "display_name": "Python 3",
   "language": "python",
   "name": "python3"
  },
  "language_info": {
   "codemirror_mode": {
    "name": "ipython",
    "version": 3
   },
   "file_extension": ".py",
   "mimetype": "text/x-python",
   "name": "python",
   "nbconvert_exporter": "python",
   "pygments_lexer": "ipython3",
   "version": "3.5.2"
  }
 },
 "nbformat": 4,
 "nbformat_minor": 2
}
